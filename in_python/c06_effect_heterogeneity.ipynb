{
 "cells": [
  {
   "cell_type": "code",
   "execution_count": 2,
   "metadata": {},
   "outputs": [],
   "source": [
    "import pandas as pd\n",
    "import numpy as np\n",
    "import seaborn as sns"
   ]
  },
  {
   "cell_type": "markdown",
   "metadata": {},
   "source": [
    "# CATE With Regression\n",
    "\n",
    "Exemplo dos restaurantes: **quando dar desconto?**"
   ]
  },
  {
   "cell_type": "code",
   "execution_count": 3,
   "metadata": {},
   "outputs": [],
   "source": [
    "rest_sales_url = \"https://raw.githubusercontent.com/matheusfacure/causal-inference-in-python-code/main/causal-inference-in-python/data/daily_restaurant_sales.csv\"\n",
    "data = pd.read_csv(rest_sales_url)"
   ]
  },
  {
   "cell_type": "code",
   "execution_count": 4,
   "metadata": {},
   "outputs": [
    {
     "data": {
      "text/html": [
       "<div>\n",
       "<style scoped>\n",
       "    .dataframe tbody tr th:only-of-type {\n",
       "        vertical-align: middle;\n",
       "    }\n",
       "\n",
       "    .dataframe tbody tr th {\n",
       "        vertical-align: top;\n",
       "    }\n",
       "\n",
       "    .dataframe thead th {\n",
       "        text-align: right;\n",
       "    }\n",
       "</style>\n",
       "<table border=\"1\" class=\"dataframe\">\n",
       "  <thead>\n",
       "    <tr style=\"text-align: right;\">\n",
       "      <th></th>\n",
       "      <th>rest_id</th>\n",
       "      <th>day</th>\n",
       "      <th>month</th>\n",
       "      <th>weekday</th>\n",
       "      <th>weekend</th>\n",
       "      <th>is_holiday</th>\n",
       "      <th>is_dec</th>\n",
       "      <th>is_nov</th>\n",
       "      <th>competitors_price</th>\n",
       "      <th>discounts</th>\n",
       "      <th>sales</th>\n",
       "    </tr>\n",
       "  </thead>\n",
       "  <tbody>\n",
       "    <tr>\n",
       "      <th>0</th>\n",
       "      <td>0</td>\n",
       "      <td>2016-01-01</td>\n",
       "      <td>1</td>\n",
       "      <td>4</td>\n",
       "      <td>False</td>\n",
       "      <td>True</td>\n",
       "      <td>False</td>\n",
       "      <td>False</td>\n",
       "      <td>2.88</td>\n",
       "      <td>0</td>\n",
       "      <td>79.0</td>\n",
       "    </tr>\n",
       "    <tr>\n",
       "      <th>1</th>\n",
       "      <td>0</td>\n",
       "      <td>2016-01-02</td>\n",
       "      <td>1</td>\n",
       "      <td>5</td>\n",
       "      <td>True</td>\n",
       "      <td>False</td>\n",
       "      <td>False</td>\n",
       "      <td>False</td>\n",
       "      <td>2.64</td>\n",
       "      <td>0</td>\n",
       "      <td>57.0</td>\n",
       "    </tr>\n",
       "    <tr>\n",
       "      <th>2</th>\n",
       "      <td>0</td>\n",
       "      <td>2016-01-03</td>\n",
       "      <td>1</td>\n",
       "      <td>6</td>\n",
       "      <td>True</td>\n",
       "      <td>False</td>\n",
       "      <td>False</td>\n",
       "      <td>False</td>\n",
       "      <td>2.08</td>\n",
       "      <td>5</td>\n",
       "      <td>294.0</td>\n",
       "    </tr>\n",
       "    <tr>\n",
       "      <th>3</th>\n",
       "      <td>0</td>\n",
       "      <td>2016-01-04</td>\n",
       "      <td>1</td>\n",
       "      <td>0</td>\n",
       "      <td>False</td>\n",
       "      <td>False</td>\n",
       "      <td>False</td>\n",
       "      <td>False</td>\n",
       "      <td>3.37</td>\n",
       "      <td>15</td>\n",
       "      <td>676.5</td>\n",
       "    </tr>\n",
       "    <tr>\n",
       "      <th>4</th>\n",
       "      <td>0</td>\n",
       "      <td>2016-01-05</td>\n",
       "      <td>1</td>\n",
       "      <td>1</td>\n",
       "      <td>False</td>\n",
       "      <td>False</td>\n",
       "      <td>False</td>\n",
       "      <td>False</td>\n",
       "      <td>3.79</td>\n",
       "      <td>0</td>\n",
       "      <td>66.0</td>\n",
       "    </tr>\n",
       "  </tbody>\n",
       "</table>\n",
       "</div>"
      ],
      "text/plain": [
       "   rest_id         day  month  weekday  weekend  is_holiday  is_dec  is_nov  \\\n",
       "0        0  2016-01-01      1        4    False        True   False   False   \n",
       "1        0  2016-01-02      1        5     True       False   False   False   \n",
       "2        0  2016-01-03      1        6     True       False   False   False   \n",
       "3        0  2016-01-04      1        0    False       False   False   False   \n",
       "4        0  2016-01-05      1        1    False       False   False   False   \n",
       "\n",
       "   competitors_price  discounts  sales  \n",
       "0               2.88          0   79.0  \n",
       "1               2.64          0   57.0  \n",
       "2               2.08          5  294.0  \n",
       "3               3.37         15  676.5  \n",
       "4               3.79          0   66.0  "
      ]
     },
     "execution_count": 4,
     "metadata": {},
     "output_type": "execute_result"
    }
   ],
   "source": [
    "data.head()"
   ]
  },
  {
   "cell_type": "code",
   "execution_count": 5,
   "metadata": {},
   "outputs": [],
   "source": [
    "import statsmodels.formula.api as smf\n",
    "\n",
    "X = [\"C(month)\", \"C(weekday)\", \"is_holiday\", \"competitors_price\"]\n",
    "regr_cate = smf.ols(f\"sales ~ discounts * ({'+'.join(X)})\", data=data).fit()\n",
    "\n",
    "ols_cate_pred = regr_cate.predict(data.assign(discounts=data[\"discounts\"]+1)) - regr_cate.predict(data)"
   ]
  },
  {
   "cell_type": "markdown",
   "metadata": {},
   "source": [
    "# Evaluating CATE Predictions"
   ]
  },
  {
   "cell_type": "code",
   "execution_count": 6,
   "metadata": {},
   "outputs": [],
   "source": [
    "train = data.query(\"day < '2018-01-01'\")\n",
    "test = data.query(\"day >= '2018-01-01'\")"
   ]
  },
  {
   "cell_type": "code",
   "execution_count": 7,
   "metadata": {},
   "outputs": [],
   "source": [
    "X = [\"C(month)\", \"C(weekday)\", \"is_holiday\", \"competitors_price\"]\n",
    "regr_cate = smf.ols(f\"sales ~ discounts * ({'+'.join(X)})\", data=train).fit()\n",
    "\n",
    "cate_pred = regr_cate.predict(test.assign(discounts=test[\"discounts\"]+1)) - regr_cate.predict(test)"
   ]
  },
  {
   "cell_type": "code",
   "execution_count": 8,
   "metadata": {},
   "outputs": [],
   "source": [
    "# tentando somente prever Y\n",
    "\n",
    "from sklearn.ensemble import GradientBoostingRegressor\n",
    "\n",
    "X = [\"month\", \"weekday\", \"is_holiday\", \"competitors_price\", \"discounts\"]\n",
    "y = \"sales\"\n",
    "\n",
    "np.random.seed(1)\n",
    "ml_model = GradientBoostingRegressor(n_estimators=50).fit(train[X], train[y])\n",
    "ml_pred = ml_model.predict(test[X])"
   ]
  },
  {
   "cell_type": "code",
   "execution_count": 9,
   "metadata": {},
   "outputs": [],
   "source": [
    "np.random.seed(123)\n",
    "\n",
    "test_pred = test.assign(\n",
    "    ml_pred=ml_pred,\n",
    "    cate_pred=cate_pred,\n",
    "    rand_m_pred=np.random.uniform(-1, 1, len(test))\n",
    ")"
   ]
  },
  {
   "cell_type": "code",
   "execution_count": 10,
   "metadata": {},
   "outputs": [
    {
     "data": {
      "text/plain": [
       "32.16196368039611"
      ]
     },
     "execution_count": 10,
     "metadata": {},
     "output_type": "execute_result"
    }
   ],
   "source": [
    "from toolz import curry\n",
    "\n",
    "@curry\n",
    "def effect(data, y, t):\n",
    "    return (np.sum((data[t] - data[t].mean()) * data[y]) / sum( (data[t] - data[t].mean())**2 ))\n",
    "\n",
    "effect(test, \"sales\", \"discounts\") #ATE"
   ]
  },
  {
   "cell_type": "code",
   "execution_count": 11,
   "metadata": {},
   "outputs": [],
   "source": [
    "def effect_by_quantile(df, pred, y, t, q=10):\n",
    "    groups = pd.IntervalIndex(pd.qcut(df[pred], q=q)).mid\n",
    "\n",
    "    return(df\n",
    "           .assign(**{f\"{pred}_quantile\":groups})\n",
    "           .groupby(f\"{pred}_quantile\")\n",
    "           .apply(effect(y=y, t=t))\n",
    "           )"
   ]
  },
  {
   "cell_type": "code",
   "execution_count": 27,
   "metadata": {},
   "outputs": [
    {
     "data": {
      "text/html": [
       "<div>\n",
       "<style scoped>\n",
       "    .dataframe tbody tr th:only-of-type {\n",
       "        vertical-align: middle;\n",
       "    }\n",
       "\n",
       "    .dataframe tbody tr th {\n",
       "        vertical-align: top;\n",
       "    }\n",
       "\n",
       "    .dataframe thead th {\n",
       "        text-align: right;\n",
       "    }\n",
       "</style>\n",
       "<table border=\"1\" class=\"dataframe\">\n",
       "  <thead>\n",
       "    <tr style=\"text-align: right;\">\n",
       "      <th></th>\n",
       "      <th>rest_id</th>\n",
       "      <th>day</th>\n",
       "      <th>month</th>\n",
       "      <th>weekday</th>\n",
       "      <th>weekend</th>\n",
       "      <th>is_holiday</th>\n",
       "      <th>is_dec</th>\n",
       "      <th>is_nov</th>\n",
       "      <th>competitors_price</th>\n",
       "      <th>discounts</th>\n",
       "      <th>sales</th>\n",
       "      <th>ml_pred</th>\n",
       "      <th>cate_pred</th>\n",
       "      <th>rand_m_pred</th>\n",
       "    </tr>\n",
       "  </thead>\n",
       "  <tbody>\n",
       "    <tr>\n",
       "      <th>731</th>\n",
       "      <td>0</td>\n",
       "      <td>2018-01-01</td>\n",
       "      <td>1</td>\n",
       "      <td>0</td>\n",
       "      <td>False</td>\n",
       "      <td>True</td>\n",
       "      <td>False</td>\n",
       "      <td>False</td>\n",
       "      <td>4.92</td>\n",
       "      <td>5</td>\n",
       "      <td>251.5</td>\n",
       "      <td>236.312960</td>\n",
       "      <td>41.355802</td>\n",
       "      <td>0.392938</td>\n",
       "    </tr>\n",
       "    <tr>\n",
       "      <th>732</th>\n",
       "      <td>0</td>\n",
       "      <td>2018-01-02</td>\n",
       "      <td>1</td>\n",
       "      <td>1</td>\n",
       "      <td>False</td>\n",
       "      <td>False</td>\n",
       "      <td>False</td>\n",
       "      <td>False</td>\n",
       "      <td>3.06</td>\n",
       "      <td>10</td>\n",
       "      <td>541.0</td>\n",
       "      <td>470.218050</td>\n",
       "      <td>44.743887</td>\n",
       "      <td>-0.427721</td>\n",
       "    </tr>\n",
       "    <tr>\n",
       "      <th>733</th>\n",
       "      <td>0</td>\n",
       "      <td>2018-01-03</td>\n",
       "      <td>1</td>\n",
       "      <td>2</td>\n",
       "      <td>False</td>\n",
       "      <td>False</td>\n",
       "      <td>False</td>\n",
       "      <td>False</td>\n",
       "      <td>4.61</td>\n",
       "      <td>10</td>\n",
       "      <td>431.0</td>\n",
       "      <td>429.180652</td>\n",
       "      <td>39.783798</td>\n",
       "      <td>-0.546297</td>\n",
       "    </tr>\n",
       "    <tr>\n",
       "      <th>734</th>\n",
       "      <td>0</td>\n",
       "      <td>2018-01-04</td>\n",
       "      <td>1</td>\n",
       "      <td>3</td>\n",
       "      <td>False</td>\n",
       "      <td>False</td>\n",
       "      <td>False</td>\n",
       "      <td>False</td>\n",
       "      <td>4.84</td>\n",
       "      <td>20</td>\n",
       "      <td>760.0</td>\n",
       "      <td>769.159322</td>\n",
       "      <td>40.770278</td>\n",
       "      <td>0.102630</td>\n",
       "    </tr>\n",
       "    <tr>\n",
       "      <th>735</th>\n",
       "      <td>0</td>\n",
       "      <td>2018-01-05</td>\n",
       "      <td>1</td>\n",
       "      <td>4</td>\n",
       "      <td>False</td>\n",
       "      <td>False</td>\n",
       "      <td>False</td>\n",
       "      <td>False</td>\n",
       "      <td>6.29</td>\n",
       "      <td>0</td>\n",
       "      <td>78.0</td>\n",
       "      <td>83.426070</td>\n",
       "      <td>40.666949</td>\n",
       "      <td>0.438938</td>\n",
       "    </tr>\n",
       "    <tr>\n",
       "      <th>...</th>\n",
       "      <td>...</td>\n",
       "      <td>...</td>\n",
       "      <td>...</td>\n",
       "      <td>...</td>\n",
       "      <td>...</td>\n",
       "      <td>...</td>\n",
       "      <td>...</td>\n",
       "      <td>...</td>\n",
       "      <td>...</td>\n",
       "      <td>...</td>\n",
       "      <td>...</td>\n",
       "      <td>...</td>\n",
       "      <td>...</td>\n",
       "      <td>...</td>\n",
       "    </tr>\n",
       "    <tr>\n",
       "      <th>7674</th>\n",
       "      <td>6</td>\n",
       "      <td>2018-12-28</td>\n",
       "      <td>12</td>\n",
       "      <td>4</td>\n",
       "      <td>False</td>\n",
       "      <td>False</td>\n",
       "      <td>True</td>\n",
       "      <td>False</td>\n",
       "      <td>6.14</td>\n",
       "      <td>15</td>\n",
       "      <td>771.0</td>\n",
       "      <td>598.981916</td>\n",
       "      <td>42.446960</td>\n",
       "      <td>-0.672354</td>\n",
       "    </tr>\n",
       "    <tr>\n",
       "      <th>7675</th>\n",
       "      <td>6</td>\n",
       "      <td>2018-12-29</td>\n",
       "      <td>12</td>\n",
       "      <td>5</td>\n",
       "      <td>True</td>\n",
       "      <td>False</td>\n",
       "      <td>True</td>\n",
       "      <td>False</td>\n",
       "      <td>9.29</td>\n",
       "      <td>5</td>\n",
       "      <td>229.0</td>\n",
       "      <td>236.103487</td>\n",
       "      <td>28.696779</td>\n",
       "      <td>0.581846</td>\n",
       "    </tr>\n",
       "    <tr>\n",
       "      <th>7676</th>\n",
       "      <td>6</td>\n",
       "      <td>2018-12-30</td>\n",
       "      <td>12</td>\n",
       "      <td>6</td>\n",
       "      <td>True</td>\n",
       "      <td>False</td>\n",
       "      <td>True</td>\n",
       "      <td>False</td>\n",
       "      <td>5.29</td>\n",
       "      <td>10</td>\n",
       "      <td>458.0</td>\n",
       "      <td>411.551171</td>\n",
       "      <td>38.631153</td>\n",
       "      <td>-0.333955</td>\n",
       "    </tr>\n",
       "    <tr>\n",
       "      <th>7677</th>\n",
       "      <td>6</td>\n",
       "      <td>2018-12-31</td>\n",
       "      <td>12</td>\n",
       "      <td>0</td>\n",
       "      <td>False</td>\n",
       "      <td>False</td>\n",
       "      <td>True</td>\n",
       "      <td>False</td>\n",
       "      <td>6.78</td>\n",
       "      <td>10</td>\n",
       "      <td>403.0</td>\n",
       "      <td>390.745578</td>\n",
       "      <td>34.023585</td>\n",
       "      <td>0.506215</td>\n",
       "    </tr>\n",
       "    <tr>\n",
       "      <th>7678</th>\n",
       "      <td>6</td>\n",
       "      <td>2019-01-01</td>\n",
       "      <td>1</td>\n",
       "      <td>1</td>\n",
       "      <td>False</td>\n",
       "      <td>True</td>\n",
       "      <td>False</td>\n",
       "      <td>False</td>\n",
       "      <td>9.41</td>\n",
       "      <td>15</td>\n",
       "      <td>408.0</td>\n",
       "      <td>450.461197</td>\n",
       "      <td>26.683185</td>\n",
       "      <td>0.165611</td>\n",
       "    </tr>\n",
       "  </tbody>\n",
       "</table>\n",
       "<p>2562 rows × 14 columns</p>\n",
       "</div>"
      ],
      "text/plain": [
       "      rest_id         day  month  weekday  weekend  is_holiday  is_dec  \\\n",
       "731         0  2018-01-01      1        0    False        True   False   \n",
       "732         0  2018-01-02      1        1    False       False   False   \n",
       "733         0  2018-01-03      1        2    False       False   False   \n",
       "734         0  2018-01-04      1        3    False       False   False   \n",
       "735         0  2018-01-05      1        4    False       False   False   \n",
       "...       ...         ...    ...      ...      ...         ...     ...   \n",
       "7674        6  2018-12-28     12        4    False       False    True   \n",
       "7675        6  2018-12-29     12        5     True       False    True   \n",
       "7676        6  2018-12-30     12        6     True       False    True   \n",
       "7677        6  2018-12-31     12        0    False       False    True   \n",
       "7678        6  2019-01-01      1        1    False        True   False   \n",
       "\n",
       "      is_nov  competitors_price  discounts  sales     ml_pred  cate_pred  \\\n",
       "731    False               4.92          5  251.5  236.312960  41.355802   \n",
       "732    False               3.06         10  541.0  470.218050  44.743887   \n",
       "733    False               4.61         10  431.0  429.180652  39.783798   \n",
       "734    False               4.84         20  760.0  769.159322  40.770278   \n",
       "735    False               6.29          0   78.0   83.426070  40.666949   \n",
       "...      ...                ...        ...    ...         ...        ...   \n",
       "7674   False               6.14         15  771.0  598.981916  42.446960   \n",
       "7675   False               9.29          5  229.0  236.103487  28.696779   \n",
       "7676   False               5.29         10  458.0  411.551171  38.631153   \n",
       "7677   False               6.78         10  403.0  390.745578  34.023585   \n",
       "7678   False               9.41         15  408.0  450.461197  26.683185   \n",
       "\n",
       "      rand_m_pred  \n",
       "731      0.392938  \n",
       "732     -0.427721  \n",
       "733     -0.546297  \n",
       "734      0.102630  \n",
       "735      0.438938  \n",
       "...           ...  \n",
       "7674    -0.672354  \n",
       "7675     0.581846  \n",
       "7676    -0.333955  \n",
       "7677     0.506215  \n",
       "7678     0.165611  \n",
       "\n",
       "[2562 rows x 14 columns]"
      ]
     },
     "execution_count": 27,
     "metadata": {},
     "output_type": "execute_result"
    }
   ],
   "source": [
    "test_pred"
   ]
  },
  {
   "cell_type": "code",
   "execution_count": 12,
   "metadata": {},
   "outputs": [
    {
     "data": {
      "text/plain": [
       "<Axes: xlabel='cate_pred_quantile', ylabel='pred'>"
      ]
     },
     "execution_count": 12,
     "metadata": {},
     "output_type": "execute_result"
    },
    {
     "data": {
      "image/png": "[encoded data removed]",
      "text/plain": [
       "<Figure size 640x480 with 1 Axes>"
      ]
     },
     "metadata": {},
     "output_type": "display_data"
    }
   ],
   "source": [
    "sns.scatterplot(data=effect_by_quantile(test_pred, \"cate_pred\", y=\"sales\", t=\"discounts\").reset_index().rename(columns={0: \"pred\"}),\n",
    "                x=\"cate_pred_quantile\", y=\"pred\")"
   ]
  },
  {
   "cell_type": "code",
   "execution_count": 13,
   "metadata": {},
   "outputs": [
    {
     "name": "stderr",
     "output_type": "stream",
     "text": [
      "/var/folders/sh/kl0p__nj01dd11mtnll0179r0000gn/T/ipykernel_24803/3668884922.py:5: RuntimeWarning: invalid value encountered in scalar divide\n",
      "  return (np.sum((data[t] - data[t].mean()) * data[y]) / sum( (data[t] - data[t].mean())**2 ))\n"
     ]
    },
    {
     "data": {
      "text/plain": [
       "<Axes: xlabel='ml_pred_quantile', ylabel='pred'>"
      ]
     },
     "execution_count": 13,
     "metadata": {},
     "output_type": "execute_result"
    },
    {
     "data": {
      "image/png": "[encoded data removed]",
      "text/plain": [
       "<Figure size 640x480 with 1 Axes>"
      ]
     },
     "metadata": {},
     "output_type": "display_data"
    }
   ],
   "source": [
    "sns.scatterplot(data=effect_by_quantile(test_pred, \"ml_pred\", y=\"sales\", t=\"discounts\").reset_index().rename(columns={0: \"pred\"}),\n",
    "                x=\"ml_pred_quantile\", y=\"pred\")"
   ]
  },
  {
   "cell_type": "markdown",
   "metadata": {},
   "source": [
    "# Cumulative Effect"
   ]
  },
  {
   "cell_type": "code",
   "execution_count": 14,
   "metadata": {},
   "outputs": [
    {
     "data": {
      "text/plain": [
       "<matplotlib.lines.Line2D at 0x17ff4ce80>"
      ]
     },
     "execution_count": 14,
     "metadata": {},
     "output_type": "execute_result"
    },
    {
     "data": {
      "image/png": "[encoded data removed]",
      "text/plain": [
       "<Figure size 640x480 with 1 Axes>"
      ]
     },
     "metadata": {},
     "output_type": "display_data"
    }
   ],
   "source": [
    "def cumulative_effect_curve(dataset, prediction, y, t, ascending=False, steps=100):\n",
    "    size = len(dataset)\n",
    "    ordered_df = (dataset\n",
    "                  .sort_values(prediction, ascending=ascending)\n",
    "                  .reset_index(drop=True))\n",
    "    \n",
    "    steps = np.linspace(size / steps, size, steps).round(0)\n",
    "\n",
    "    return np.array([effect(ordered_df.query(f\"index <= {row}\"), t=t, y=y) for row in steps])\n",
    "\n",
    "\n",
    "sns.lineplot(cumulative_effect_curve(test_pred, \"cate_pred\", \"sales\", \"discounts\")).axhline(y= effect(test, \"sales\", \"discounts\") , c=\"black\")"
   ]
  },
  {
   "cell_type": "code",
   "execution_count": 15,
   "metadata": {},
   "outputs": [
    {
     "data": {
      "text/plain": [
       "array([ 0.        ,  0.50387597,  0.982917  ,  1.38863289,  1.83046877,\n",
       "        2.26408709,  2.71880783,  3.13779256,  3.58003148,  4.01798404,\n",
       "        4.42379877,  4.83861979,  5.23242282,  5.62890903,  5.98551452,\n",
       "        6.38159081,  6.74402024,  7.13257317,  7.5088165 ,  7.9068624 ,\n",
       "        8.26968674,  8.63441305,  9.03646968,  9.41649072,  9.76869065,\n",
       "       10.13172457, 10.48178647, 10.85654343, 11.20031099, 11.57715392,\n",
       "       11.88179285, 12.22484979, 12.65329367, 13.00147394, 13.35835129,\n",
       "       13.75177168, 14.08571614, 14.44720258, 14.8206963 , 15.16915263,\n",
       "       15.48942971, 15.87058782, 16.18483861, 16.5889676 , 16.87711862,\n",
       "       17.226077  , 17.51523959, 17.85547549, 18.1943502 , 18.48062947,\n",
       "       18.77790182, 19.05825319, 19.38214231, 19.7240743 , 20.00659491,\n",
       "       20.35269886, 20.65268403, 20.93862963, 21.18225404, 21.53351325,\n",
       "       21.82793867, 22.09450014, 22.38142964, 22.62161465, 22.87752468,\n",
       "       23.11063608, 23.3799479 , 23.70688475, 23.97456335, 24.32208947,\n",
       "       24.59360922, 24.91557817, 25.20590966, 25.51965521, 25.81042645,\n",
       "       26.10331578, 26.33901594, 26.6396965 , 26.89011363, 27.16213357,\n",
       "       27.44788562, 27.60976683, 27.92564404, 28.15503057, 28.47433643,\n",
       "       28.68239331, 28.91615935, 29.12294194, 29.39723028, 29.59660012,\n",
       "       29.8672981 , 30.10511301, 30.40516978, 30.69778369, 30.9021028 ,\n",
       "       31.17575982, 31.43719771, 31.66657828, 31.82346463, 32.00615008,\n",
       "       32.16196368])"
      ]
     },
     "execution_count": 15,
     "metadata": {},
     "output_type": "execute_result"
    }
   ],
   "source": [
    "def cumulative_gain_curve(df, prediction, y, t, ascending=False, normalize=False, steps=100):\n",
    "    effect_fn = effect(t = t, y = y)\n",
    "    normalizer = effect_fn(df) if normalize else 0\n",
    "\n",
    "    size = len(df)\n",
    "    ordered_df = (df\n",
    "                  .sort_values(prediction, ascending=ascending)\n",
    "                  .reset_index(drop=True))\n",
    "    \n",
    "    steps = np.linspace(size / steps, size, steps).round(0)\n",
    "    effects = [(effect_fn(ordered_df.query(f\"index <= {row}\")) - normalizer) * (row / size) for row in steps]\n",
    "\n",
    "    return np.array([0] + effects)\n",
    "\n",
    "\n",
    "cumulative_gain_curve(test_pred, \"cate_pred\", \"sales\", \"discounts\")"
   ]
  },
  {
   "cell_type": "markdown",
   "metadata": {},
   "source": []
  },
  {
   "cell_type": "code",
   "execution_count": 71,
   "metadata": {},
   "outputs": [
    {
     "data": {
      "text/plain": [
       "<Axes: >"
      ]
     },
     "execution_count": 71,
     "metadata": {},
     "output_type": "execute_result"
    },
    {
     "data": {
      "image/png": "[encoded data removed]",
      "text/plain": [
       "<Figure size 640x480 with 1 Axes>"
      ]
     },
     "metadata": {},
     "output_type": "display_data"
    }
   ],
   "source": [
    "sns.lineplot(cumulative_gain_curve(test_pred, \"cate_pred\", \"sales\", \"discounts\", normalize=True))"
   ]
  },
  {
   "cell_type": "code",
   "execution_count": 76,
   "metadata": {},
   "outputs": [
    {
     "data": {
      "text/plain": [
       "181.7407448835945"
      ]
     },
     "execution_count": 76,
     "metadata": {},
     "output_type": "execute_result"
    }
   ],
   "source": [
    "np.trapz(cumulative_gain_curve(test_pred, \"cate_pred\", \"sales\", \"discounts\", normalize=True)) #AUC"
   ]
  },
  {
   "cell_type": "markdown",
   "metadata": {},
   "source": [
    "# Target Transformation"
   ]
  },
  {
   "cell_type": "code",
   "execution_count": 26,
   "metadata": {},
   "outputs": [
    {
     "name": "stdout",
     "output_type": "stream",
     "text": [
      "MSE for rand_m_pred: 1115.803515760459\n",
      "MSE for ml_pred: 576256.7425385381\n",
      "MSE for cate_pred: 42.904474055502796\n"
     ]
    }
   ],
   "source": [
    "from sklearn.metrics import mean_squared_error\n",
    "\n",
    "X = [\"C(month)\", \"C(weekday)\", \"is_holiday\", \"competitors_price\"]\n",
    "\n",
    "y_res = smf.ols(f\"sales ~ {'+'.join(X)}\", data=test).fit().resid\n",
    "t_res = smf.ols(f\"discounts ~ {'+'.join(X)}\", data=test).fit().resid\n",
    "\n",
    "tau_hat = y_res / t_res\n",
    "\n",
    "for m in [\"rand_m_pred\", \"ml_pred\", \"cate_pred\"]:\n",
    "    wmse = mean_squared_error(tau_hat, test_pred[m], sample_weight=t_res**2)\n",
    "    print(f\"MSE for {m}:\", wmse)"
   ]
  },
  {
   "cell_type": "code",
   "execution_count": null,
   "metadata": {},
   "outputs": [],
   "source": []
  }
 ],
 "metadata": {
  "kernelspec": {
   "display_name": "venv",
   "language": "python",
   "name": "python3"
  },
  "language_info": {
   "codemirror_mode": {
    "name": "ipython",
    "version": 3
   },
   "file_extension": ".py",
   "mimetype": "text/x-python",
   "name": "python",
   "nbconvert_exporter": "python",
   "pygments_lexer": "ipython3",
   "version": "3.9.6"
  },
  "orig_nbformat": 4
 },
 "nbformat": 4,
 "nbformat_minor": 2
}
