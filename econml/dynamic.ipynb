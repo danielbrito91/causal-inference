{
 "cells": [
  {
   "cell_type": "code",
   "execution_count": 59,
   "metadata": {},
   "outputs": [],
   "source": [
    "# Main imports\n",
    "from econml.panel.dml import DynamicDML\n",
    "from econml.dml import LinearDML\n",
    "from tests_copy import DynamicPanelDGP, add_vlines\n",
    "\n",
    "# Helper imports\n",
    "import numpy as np\n",
    "from sklearn.linear_model import Lasso, LassoCV, LogisticRegression, LogisticRegressionCV, MultiTaskLassoCV\n",
    "import matplotlib.pyplot as plt\n",
    "\n",
    "import pandas as pd\n",
    "\n",
    "%matplotlib inline"
   ]
  },
  {
   "cell_type": "code",
   "execution_count": 3,
   "metadata": {},
   "outputs": [],
   "source": [
    "# Define DGP parameters\n",
    "np.random.seed(123)\n",
    "n_panels = 5000 # number of panels\n",
    "n_periods = 3 # number of time periods in each panel\n",
    "n_treatments = 2 # number of treatments in each period\n",
    "n_x = 100 # number of features + controls\n",
    "s_x = 10 # number of controls (endogeneous variables)\n",
    "s_t = 10 # treatment support size"
   ]
  },
  {
   "cell_type": "code",
   "execution_count": 4,
   "metadata": {},
   "outputs": [],
   "source": [
    "# Generate data\n",
    "dgp = DynamicPanelDGP(n_periods, n_treatments, n_x).create_instance(\n",
    "            s_x, random_seed=12345)\n",
    "Y, T, X, W, groups = dgp.observational_data(n_panels, s_t=s_t, random_seed=12345)\n",
    "true_effect = dgp.true_effect"
   ]
  },
  {
   "cell_type": "code",
   "execution_count": 26,
   "metadata": {},
   "outputs": [],
   "source": [
    "W_df = pd.DataFrame(W, columns=[f\"W_{i}\" for i in range(W.shape[1])])\n",
    "T_df = pd.DataFrame(T, columns=[f\"T_{i}\" for i in range(T.shape[1])])"
   ]
  },
  {
   "cell_type": "code",
   "execution_count": 34,
   "metadata": {},
   "outputs": [],
   "source": [
    "df = pd.concat([W_df, T_df, pd.Series(Y, name=\"Y\"), pd.Series(groups, name=\"Groups\")], axis=1)"
   ]
  },
  {
   "cell_type": "code",
   "execution_count": 41,
   "metadata": {},
   "outputs": [
    {
     "data": {
      "text/plain": [
       "array([[0.05509021, 0.05760207],\n",
       "       [0.29118846, 0.24326831],\n",
       "       [0.13030029, 0.60557796]])"
      ]
     },
     "execution_count": 41,
     "metadata": {},
     "output_type": "execute_result"
    }
   ],
   "source": [
    "true_effect"
   ]
  },
  {
   "cell_type": "markdown",
   "metadata": {},
   "source": [
    "# Dynamic"
   ]
  },
  {
   "cell_type": "code",
   "execution_count": 50,
   "metadata": {},
   "outputs": [
    {
     "data": {
      "text/plain": [
       "<econml.panel.dml._dml.DynamicDML at 0x29d18fca0>"
      ]
     },
     "execution_count": 50,
     "metadata": {},
     "output_type": "execute_result"
    }
   ],
   "source": [
    "est = DynamicDML(\n",
    "    model_y=LassoCV(cv=3, max_iter=1000), \n",
    "    model_t=MultiTaskLassoCV(cv=3, max_iter=1000), \n",
    "    #fit_cate_intercept=False,\n",
    "    cv=3)\n",
    "\n",
    "est.fit(X=None, W=W, Y=Y, T=T, groups=groups)"
   ]
  },
  {
   "cell_type": "code",
   "execution_count": 52,
   "metadata": {},
   "outputs": [
    {
     "data": {
      "text/plain": [
       "array([0.04000235, 0.0701606 , 0.31611764, 0.23714736, 0.13108411,\n",
       "       0.60656886])"
      ]
     },
     "execution_count": 52,
     "metadata": {},
     "output_type": "execute_result"
    }
   ],
   "source": [
    "est.intercept_"
   ]
  },
  {
   "cell_type": "code",
   "execution_count": 79,
   "metadata": {},
   "outputs": [
    {
     "data": {
      "text/plain": [
       "array([[0.04000235, 0.0701606 , 0.31611764, 0.23714736, 0.13108411,\n",
       "        0.60656886]])"
      ]
     },
     "execution_count": 79,
     "metadata": {},
     "output_type": "execute_result"
    }
   ],
   "source": [
    "est.const_marginal_effect()"
   ]
  },
  {
   "cell_type": "markdown",
   "metadata": {},
   "source": [
    "# Bootstrap"
   ]
  },
  {
   "cell_type": "code",
   "execution_count": 57,
   "metadata": {},
   "outputs": [],
   "source": [
    "df_sample = df.groupby(\"Groups\").apply(lambda x: x.sample(1))"
   ]
  },
  {
   "cell_type": "code",
   "execution_count": 60,
   "metadata": {},
   "outputs": [],
   "source": [
    "W_fts = [col for col in df_sample.columns if \"W\" in col]\n",
    "T_fts = [col for col in df_sample.columns if \"T\" in col]"
   ]
  },
  {
   "cell_type": "code",
   "execution_count": 73,
   "metadata": {},
   "outputs": [
    {
     "data": {
      "text/plain": [
       "array([0.13365554, 0.60411655])"
      ]
     },
     "execution_count": 73,
     "metadata": {},
     "output_type": "execute_result"
    }
   ],
   "source": [
    "est_l = LinearDML(\n",
    "    model_y=LassoCV(cv=3, max_iter=1000), \n",
    "    model_t=MultiTaskLassoCV(cv=3, max_iter=1000), \n",
    "    #fit_cate_intercept=False,\n",
    "    cv=3)\n",
    "\n",
    "est_l.fit(X=None, W=df_sample[W_fts], Y=df_sample[\"Y\"], T=df_sample[T_fts])\n",
    "\n",
    "est_l.intercept_"
   ]
  },
  {
   "cell_type": "code",
   "execution_count": 74,
   "metadata": {},
   "outputs": [
    {
     "data": {
      "text/plain": [
       "array([0.13131142, 0.60666462])"
      ]
     },
     "execution_count": 74,
     "metadata": {},
     "output_type": "execute_result"
    }
   ],
   "source": [
    "est_l = LinearDML(\n",
    "    model_y=LassoCV(cv=3, max_iter=1000), \n",
    "    model_t=MultiTaskLassoCV(cv=3, max_iter=1000), \n",
    "    #fit_cate_intercept=False,\n",
    "    cv=3)\n",
    "\n",
    "est_l.fit(X=None, W=W, Y=Y, T=T)\n",
    "\n",
    "est_l.intercept_"
   ]
  },
  {
   "cell_type": "code",
   "execution_count": 75,
   "metadata": {},
   "outputs": [
    {
     "data": {
      "text/plain": [
       "array([0.13131142, 0.60666462])"
      ]
     },
     "execution_count": 75,
     "metadata": {},
     "output_type": "execute_result"
    }
   ],
   "source": [
    "est_l.const_marginal_ate()"
   ]
  },
  {
   "cell_type": "code",
   "execution_count": null,
   "metadata": {},
   "outputs": [],
   "source": []
  }
 ],
 "metadata": {
  "kernelspec": {
   "display_name": "venv",
   "language": "python",
   "name": "python3"
  },
  "language_info": {
   "codemirror_mode": {
    "name": "ipython",
    "version": 3
   },
   "file_extension": ".py",
   "mimetype": "text/x-python",
   "name": "python",
   "nbconvert_exporter": "python",
   "pygments_lexer": "ipython3",
   "version": "3.9.6"
  },
  "orig_nbformat": 4
 },
 "nbformat": 4,
 "nbformat_minor": 2
}
