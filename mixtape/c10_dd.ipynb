{
 "cells": [
  {
   "cell_type": "code",
   "execution_count": 1,
   "metadata": {},
   "outputs": [],
   "source": [
    "import pandas as pd"
   ]
  },
  {
   "cell_type": "code",
   "execution_count": 5,
   "metadata": {},
   "outputs": [],
   "source": [
    "file_path = \"https://raw.github.com/scunning1975/mixtape/master/abortion.dta\"\n",
    "\n",
    "abortion = pd.read_stata(file_path)"
   ]
  },
  {
   "cell_type": "code",
   "execution_count": 14,
   "metadata": {},
   "outputs": [
    {
     "data": {
      "text/plain": [
       "0.0    17664\n",
       "1.0     1920\n",
       "Name: repeal, dtype: int64"
      ]
     },
     "metadata": {},
     "output_type": "display_data"
    },
    {
     "data": {
      "text/plain": [
       "1985.0    1224\n",
       "1986.0    1224\n",
       "1987.0    1224\n",
       "1988.0    1224\n",
       "1989.0    1224\n",
       "1990.0    1224\n",
       "1991.0    1224\n",
       "1992.0    1224\n",
       "1993.0    1224\n",
       "1994.0    1224\n",
       "1995.0    1224\n",
       "1996.0    1224\n",
       "1997.0    1224\n",
       "1998.0    1224\n",
       "1999.0    1224\n",
       "2000.0    1224\n",
       "Name: year, dtype: int64"
      ]
     },
     "metadata": {},
     "output_type": "display_data"
    },
    {
     "data": {
      "text/plain": [
       "1.0     384\n",
       "42.0    384\n",
       "32.0    384\n",
       "33.0    384\n",
       "34.0    384\n",
       "35.0    384\n",
       "36.0    384\n",
       "37.0    384\n",
       "38.0    384\n",
       "39.0    384\n",
       "40.0    384\n",
       "41.0    384\n",
       "44.0    384\n",
       "30.0    384\n",
       "45.0    384\n",
       "46.0    384\n",
       "47.0    384\n",
       "48.0    384\n",
       "49.0    384\n",
       "50.0    384\n",
       "51.0    384\n",
       "53.0    384\n",
       "54.0    384\n",
       "55.0    384\n",
       "31.0    384\n",
       "29.0    384\n",
       "2.0     384\n",
       "16.0    384\n",
       "4.0     384\n",
       "5.0     384\n",
       "6.0     384\n",
       "8.0     384\n",
       "9.0     384\n",
       "10.0    384\n",
       "11.0    384\n",
       "12.0    384\n",
       "13.0    384\n",
       "15.0    384\n",
       "17.0    384\n",
       "28.0    384\n",
       "18.0    384\n",
       "19.0    384\n",
       "20.0    384\n",
       "21.0    384\n",
       "22.0    384\n",
       "23.0    384\n",
       "24.0    384\n",
       "25.0    384\n",
       "26.0    384\n",
       "27.0    384\n",
       "56.0    384\n",
       "Name: fip, dtype: int64"
      ]
     },
     "metadata": {},
     "output_type": "display_data"
    },
    {
     "data": {
      "text/plain": [
       "1.0      64\n",
       "65.0     64\n",
       "75.0     64\n",
       "74.0     64\n",
       "73.0     64\n",
       "         ..\n",
       "32.0     64\n",
       "31.0     64\n",
       "29.0     64\n",
       "30.0     64\n",
       "102.0    64\n",
       "Name: fa, Length: 102, dtype: int64"
      ]
     },
     "metadata": {},
     "output_type": "display_data"
    },
    {
     "data": {
      "text/plain": [
       "0.0    16320\n",
       "1.0     3264\n",
       "Name: younger, dtype: int64"
      ]
     },
     "metadata": {},
     "output_type": "display_data"
    }
   ],
   "source": [
    "for col in [\"repeal\", \"year\", \"fip\", \"fa\", \"younger\"]:\n",
    "\n",
    "    display(abortion[col].value_counts())\n"
   ]
  },
  {
   "cell_type": "code",
   "execution_count": 10,
   "metadata": {},
   "outputs": [
    {
     "data": {
      "text/plain": [
       "1985.0    1224\n",
       "1986.0    1224\n",
       "1987.0    1224\n",
       "1988.0    1224\n",
       "1989.0    1224\n",
       "1990.0    1224\n",
       "1991.0    1224\n",
       "1992.0    1224\n",
       "1993.0    1224\n",
       "1994.0    1224\n",
       "1995.0    1224\n",
       "1996.0    1224\n",
       "1997.0    1224\n",
       "1998.0    1224\n",
       "1999.0    1224\n",
       "2000.0    1224\n",
       "Name: year, dtype: int64"
      ]
     },
     "execution_count": 10,
     "metadata": {},
     "output_type": "execute_result"
    }
   ],
   "source": []
  },
  {
   "cell_type": "code",
   "execution_count": null,
   "metadata": {},
   "outputs": [],
   "source": []
  }
 ],
 "metadata": {
  "kernelspec": {
   "display_name": "Python 3",
   "language": "python",
   "name": "python3"
  },
  "language_info": {
   "codemirror_mode": {
    "name": "ipython",
    "version": 3
   },
   "file_extension": ".py",
   "mimetype": "text/x-python",
   "name": "python",
   "nbconvert_exporter": "python",
   "pygments_lexer": "ipython3",
   "version": "3.10.7"
  },
  "orig_nbformat": 4
 },
 "nbformat": 4,
 "nbformat_minor": 2
}
