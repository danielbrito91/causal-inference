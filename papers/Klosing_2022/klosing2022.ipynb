{
 "cells": [
  {
   "cell_type": "markdown",
   "metadata": {},
   "source": [
    "# Estimating Continuous Treatment Effects in Panel Data using Machine Learning with an Agricultura Application"
   ]
  },
  {
   "cell_type": "markdown",
   "metadata": {},
   "source": [
    "- Data 1: USDA's Survey of Agriculture + Weather records from Abatzoglu\n",
    "- Data 2: Projections by BUrke and Emerick"
   ]
  },
  {
   "cell_type": "markdown",
   "metadata": {},
   "source": [
    "https://www.openicpsr.org/openicpsr/project/114567/version/V1/view?path=/pcms/projects/1/1/4/5/114567/V1.0.1/replication&type=folder"
   ]
  },
  {
   "cell_type": "markdown",
   "metadata": {},
   "source": []
  },
  {
   "cell_type": "markdown",
   "metadata": {},
   "source": []
  }
 ],
 "metadata": {
  "language_info": {
   "name": "python"
  },
  "orig_nbformat": 4
 },
 "nbformat": 4,
 "nbformat_minor": 2
}
