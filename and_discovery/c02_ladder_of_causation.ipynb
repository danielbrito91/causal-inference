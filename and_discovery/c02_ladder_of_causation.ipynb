{
 "cells": [
  {
   "cell_type": "code",
   "execution_count": 1,
   "metadata": {},
   "outputs": [],
   "source": [
    "import numpy as np\n",
    "from scipy import stats"
   ]
  },
  {
   "cell_type": "code",
   "execution_count": 24,
   "metadata": {},
   "outputs": [],
   "source": [
    "class BookSCM:\n",
    "    def __init__(self, random_seed=None):\n",
    "        self.random_seed = random_seed\n",
    "        self.u_0 = stats.uniform()\n",
    "        self.u_1 = stats.norm()\n",
    "\n",
    "    def sample(self, sample_size=100):\n",
    "        if self.random_seed:\n",
    "            np.random.seed(self.random_seed)\n",
    "        u_0 = self.u_0.rvs(sample_size)\n",
    "        u_1 = self.u_1.rvs(sample_size)\n",
    "        a = u_0 > .61\n",
    "        b = (a + .5 * u_1) > .2\n",
    "        return a, b\n"
   ]
  },
  {
   "cell_type": "code",
   "execution_count": 25,
   "metadata": {},
   "outputs": [],
   "source": [
    "scm = BookSCM(random_seed=45)\n",
    "buy_book_a, buy_book_b = scm.sample(100)"
   ]
  },
  {
   "cell_type": "markdown",
   "metadata": {},
   "source": [
    "## Association"
   ]
  },
  {
   "cell_type": "code",
   "execution_count": 26,
   "metadata": {},
   "outputs": [
    {
     "data": {
      "text/plain": [
       "0.6379310344827587"
      ]
     },
     "execution_count": 26,
     "metadata": {},
     "output_type": "execute_result"
    }
   ],
   "source": [
    "buy_book_a[buy_book_b].sum() / buy_book_a[buy_book_b].shape[0]"
   ]
  },
  {
   "cell_type": "markdown",
   "metadata": {},
   "source": [
    "# Intervention"
   ]
  },
  {
   "cell_type": "code",
   "execution_count": 27,
   "metadata": {},
   "outputs": [
    {
     "name": "stdout",
     "output_type": "stream",
     "text": [
      "mean of B before any intervention: -0.620\n",
      "variance of B before any intervention: 22.667\n",
      "corr between A and B: r=0.978; p=0.000\n"
     ]
    }
   ],
   "source": [
    "SAMPLE_SIZE = 100\n",
    "np.random.seed(45)\n",
    "\n",
    "u_0 = np.random.randn(SAMPLE_SIZE)\n",
    "u_1 = np.random.randn(SAMPLE_SIZE)\n",
    "a = u_0\n",
    "b = 5 * a + u_1\n",
    "r, p = stats.pearsonr(a, b)\n",
    "\n",
    "print(f\"mean of B before any intervention: {b.mean():.3f}\")\n",
    "print(f\"variance of B before any intervention: {b.var():.3f}\")\n",
    "print(f\"corr between A and B: r={r:.3f}; p={p:.3f}\")"
   ]
  },
  {
   "cell_type": "code",
   "execution_count": 28,
   "metadata": {},
   "outputs": [
    {
     "name": "stdout",
     "output_type": "stream",
     "text": [
      "7.575404468180015\n",
      "1.0025411156718491\n"
     ]
    }
   ],
   "source": [
    "a = np.array([1.5] * SAMPLE_SIZE)\n",
    "b = 5 * a + u_1\n",
    "\n",
    "print(b.mean())\n",
    "print(b.var())"
   ]
  },
  {
   "cell_type": "code",
   "execution_count": 29,
   "metadata": {},
   "outputs": [
    {
     "name": "stdout",
     "output_type": "stream",
     "text": [
      "0.18551970084448796 0.9949738521691471 -0.022866039104679478 0.82134525059407\n"
     ]
    }
   ],
   "source": [
    "a = u_0\n",
    "b = np.random.randn(SAMPLE_SIZE)\n",
    "r, p = stats.pearsonr(a, b)\n",
    "\n",
    "print(b.mean(), b.var(), r, p)"
   ]
  },
  {
   "cell_type": "markdown",
   "metadata": {},
   "source": [
    "# Conterfactual\n",
    "\n",
    "$P(Y_{X=0} = 1| X = 1, Y_{X=1} = 1)$\n",
    "- probabilidade do outcome ser positivo caso o tratamento tenha sido negativo ($P(Y_{X=0}=1)$) dado que o tratamento foi positivo ($X=1$) e o outcome para o tratamento positivo foi positivo ($Y_{X=1} = 1$)."
   ]
  },
  {
   "cell_type": "code",
   "execution_count": 31,
   "metadata": {},
   "outputs": [],
   "source": [
    "class CounterfactualSCM:\n",
    "    def abduct(self, t, y):\n",
    "        \"\"\"Computes the value of  U (coffee sensitivity) given the values for treatment (drinking coffee)\n",
    "        and actual outcome (feel bad in your stomach)\"\"\"\n",
    "        u = (t + y - 1) / (2 * t - 1)\n",
    "        return  u\n",
    "    \n",
    "    def modify(self, t):\n",
    "        \"\"\"Modifies the SCM by assigning t to T\"\"\"\n",
    "        return lambda u: t * u + (t - 1) * (u - 1)\n",
    "    \n",
    "    def predict(self, u, t):\n",
    "        \"\"\"Takes the modified SCM and generates the counterfactual prediction by assigning the actual value of U\n",
    "        to the modified SCM.\"\"\"\n",
    "        return self.modify(t)(u)"
   ]
  },
  {
   "cell_type": "code",
   "execution_count": 34,
   "metadata": {},
   "outputs": [
    {
     "data": {
      "text/plain": [
       "1.0"
      ]
     },
     "execution_count": 34,
     "metadata": {},
     "output_type": "execute_result"
    }
   ],
   "source": [
    "coffee = CounterfactualSCM()\n",
    "t = 1\n",
    "y = 1\n",
    "u = coffee.abduct(t=t, y=y)\n",
    "u"
   ]
  },
  {
   "cell_type": "code",
   "execution_count": 35,
   "metadata": {},
   "outputs": [
    {
     "data": {
      "text/plain": [
       "0.0"
      ]
     },
     "execution_count": 35,
     "metadata": {},
     "output_type": "execute_result"
    }
   ],
   "source": [
    "coffee.predict(u=u, t=0)"
   ]
  }
 ],
 "metadata": {
  "kernelspec": {
   "display_name": "venv",
   "language": "python",
   "name": "python3"
  },
  "language_info": {
   "codemirror_mode": {
    "name": "ipython",
    "version": 3
   },
   "file_extension": ".py",
   "mimetype": "text/x-python",
   "name": "python",
   "nbconvert_exporter": "python",
   "pygments_lexer": "ipython3",
   "version": "3.9.6"
  },
  "orig_nbformat": 4
 },
 "nbformat": 4,
 "nbformat_minor": 2
}
